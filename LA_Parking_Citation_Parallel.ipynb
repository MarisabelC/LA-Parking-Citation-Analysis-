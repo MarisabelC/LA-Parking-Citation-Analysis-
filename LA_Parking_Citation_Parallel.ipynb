{
 "cells": [
  {
   "cell_type": "markdown",
   "metadata": {
    "colab_type": "text",
    "id": "DbtHIVEUw-Gy"
   },
   "source": [
    "**Library**"
   ]
  },
  {
   "cell_type": "code",
   "execution_count": null,
   "metadata": {
    "colab": {},
    "colab_type": "code",
    "id": "ZZGLNaGrrJDy"
   },
   "outputs": [],
   "source": [
    "import matplotlib.pyplot as plt\n",
    "import pandas as pd\n",
    "import numpy as np\n",
    "import  datetime\n",
    "import calendar\n",
    "import time \n",
    "from ipyparallel import Client\n",
    "import zmq \n",
    "\n"
   ]
  },
  {
   "cell_type": "code",
   "execution_count": null,
   "metadata": {
    "scrolled": false
   },
   "outputs": [],
   "source": [
    "#create a client\n",
    "rc = Client(context=zmq.Context()) \n",
    "rc.ids"
   ]
  },
  {
   "cell_type": "code",
   "execution_count": null,
   "metadata": {},
   "outputs": [],
   "source": [
    "\n",
    "dview=rc[:]\n",
    "\n",
    "with dview.sync_imports():\n",
    "    import pandas\n",
    "    import matplotlib\n",
    "    import matplotlib.pyplot\n",
    "    import numpy \n",
    "    import  datetime\n",
    "    import calendar\n",
    "    import time "
   ]
  },
  {
   "cell_type": "code",
   "execution_count": null,
   "metadata": {},
   "outputs": [],
   "source": [
    "runtime=time.time()\n",
    "def para_read(file):\n",
    "    dview = rc[:]\n",
    "    # PARTITION THE IMPORT BY SCATTER() #\n",
    "    dview.scatter(\"df\", pd.read_csv(file))\n",
    "    return pd.concat([i for i in dview[\"df\"]])\n",
    "\n",
    "t2= time.time()\n",
    "df= para_read('parking-citations.csv')\n",
    "t2=time.time()-t2\n",
    "print ('Number of data:',df.shape, \"time:\",t2)\n"
   ]
  },
  {
   "cell_type": "code",
   "execution_count": null,
   "metadata": {},
   "outputs": [],
   "source": [
    "@dview.parallel(block = True)\n",
    "def getLocation(location):\n",
    "\n",
    "  i=0\n",
    "  list= np.empty((len(location),1),dtype=\"U20\")\n",
    "  for data in location:\n",
    "    temp=data.split(None, 1)[0]\n",
    "    if temp.isnumeric():\n",
    "      data=data[len(temp)+1:]\n",
    "    list[i]=data\n",
    "    i=i+1\n",
    "  return list"
   ]
  },
  {
   "cell_type": "code",
   "execution_count": null,
   "metadata": {},
   "outputs": [],
   "source": [
    "\n",
    "temp=  df['Location'].dropna()\n",
    "location=pd.DataFrame()\n",
    "location['Quantity']=np.ones(len(temp),dtype=int)\n",
    "location['Location']=getLocation(temp)\n",
    "location['Quantity']=location['Quantity'].groupby(location['Location']).transform('sum')\n",
    "location['%'] = (location['Quantity']/len(location))*100\n",
    "location=location.drop_duplicates(['Location']).sort_values(by = ['Quantity'], ascending = [False])\n",
    "print(location.head(20)) "
   ]
  },
  {
   "cell_type": "code",
   "execution_count": null,
   "metadata": {},
   "outputs": [],
   "source": [
    "location.groupby(['Location']).sum().sort_values(by= 'Quantity', ascending=True)[-20:].plot(kind='barh',width=1.9,figsize=(14, 12),color='b')\n",
    "plt.xlabel('Top 20 Location')\n",
    "plt.title(\"Parking Ciatation - Location\")\n",
    "plt.show()"
   ]
  },
  {
   "cell_type": "code",
   "execution_count": null,
   "metadata": {
    "colab": {},
    "colab_type": "code",
    "id": "K8-NcLMKuf0s"
   },
   "outputs": [],
   "source": [
    "@dview.parallel(block = True)\n",
    "def create_issue_time_category(issue_time):\n",
    "  issue_cat= np.zeros(24,dtype=int)\n",
    "  for issue in issue_time:\n",
    "    key= int(issue/100)\n",
    "    issue_cat[key]=issue_cat[key]+1\n",
    "  return issue_cat\n",
    "\n",
    "\n",
    "issue_time= df['Issue time'].dropna()\n",
    "\n",
    "list_issue_time=create_issue_time_category(issue_time)\n",
    "\n",
    "issue= pd.DataFrame()\n",
    "issue['Issue Time']= np.arange(24)\n",
    "issue['Quantity']=list_issue_time\n",
    "issue['%']=np.zeros(len(issue))\n",
    "issue['%']= (issue['Quantity']/len(issue_time))*100\n",
    "issue=issue.sort_values(by = ['Quantity'], ascending = [False])\n",
    "print (issue.head(issue.shape[0]))\n"
   ]
  },
  {
   "cell_type": "code",
   "execution_count": null,
   "metadata": {},
   "outputs": [],
   "source": [
    "@dview.parallel(block = True)\n",
    "def create_list_near_issue_time(issue_time):  \n",
    "  \n",
    "  issue_cat= np.zeros(24,dtype=int)\n",
    "\n",
    "  for issue in issue_time:\n",
    "    key= int(issue/100)\n",
    "   \n",
    "    if issue%100 <30:\n",
    "      issue_cat[key]=issue_cat[key]+1\n",
    "    else:\n",
    "      if key<23: \n",
    "        issue_cat[key+1]=issue_cat[key+1]+1\n",
    "      else: \n",
    "        issue_cat[0]=issue_cat[0]+1\n",
    "  return issue_cat\n",
    "\n",
    "\n",
    "issue_time= df['Issue time'].dropna()\n",
    "\n",
    "list_issue_time=create_list_near_issue_time(issue_time)\n",
    "\n",
    "issue= pd.DataFrame()\n",
    "issue['Issue Time']= np.arange(24)\n",
    "issue['Quantity']=list_issue_time\n",
    "issue['%']=np.zeros(len(issue))\n",
    "issue['%']= (issue['Quantity']/len(issue_time))*100"
   ]
  },
  {
   "cell_type": "code",
   "execution_count": null,
   "metadata": {},
   "outputs": [],
   "source": [
    "issue['Quantity'].plot(kind='bar', figsize=(14, 6), color='r',rot=0,width=0.95)\n",
    "plt.title(\"Parking Citation- Time Near the Hour\")\n",
    "plt.xlabel('Time (24-hour clock )')\n",
    "plt.ylabel('Number of citations')\n",
    "plt.show()\n",
    "issue=issue.sort_values(by = ['Quantity'], ascending = [False])\n",
    "print (issue.head(issue.shape[0]))"
   ]
  },
  {
   "cell_type": "code",
   "execution_count": null,
   "metadata": {
    "colab": {},
    "colab_type": "code",
    "id": "Y_tyoKbqKPkC"
   },
   "outputs": [],
   "source": [
    "\n",
    "violation= df.loc[:, ['Violation Description','Fine amount']]\n",
    "quantity=np.ones(len(violation),dtype=int)\n",
    "violation['Quantity'] = quantity\n",
    "\n",
    "violation['Quantity']=violation['Quantity'].groupby(violation['Violation Description']).transform('sum')\n",
    "\n",
    "violation['%'] = (violation['Quantity']/len(violation))*100\n",
    "\n",
    "violation=violation.drop_duplicates(['Violation Description']).sort_values(by = ['Quantity'], ascending = [False])\n",
    "\n",
    "print(violation.head(20))\n"
   ]
  },
  {
   "cell_type": "code",
   "execution_count": null,
   "metadata": {
    "colab": {},
    "colab_type": "code",
    "id": "y3-Kfv_JarYR"
   },
   "outputs": [],
   "source": [
    "\n",
    "@dview.parallel(block = True)\n",
    "def issue_date(data_frame):\n",
    " \n",
    "  date=numpy.empty(len(data_frame), dtype=\"S9\")\n",
    "  i=0\n",
    "  for data in data_frame: \n",
    "    temp=datetime.date(int(data[:4]),int(data[5:7]),int(data[8:10]))\n",
    "    date[i]=calendar.day_name[temp.weekday()]\n",
    "   \n",
    "    i+=1\n",
    "  return date\n",
    "\n",
    "weekday=pd.DataFrame()\n",
    "temp= df['Issue Date'].dropna()\n",
    "weekday['Issue Date']=temp\n",
    "weekday['Weekday']=issue_date(temp)\n",
    "\n",
    "quantity=numpy.ones(len(weekday),dtype=int)\n",
    "weekday['Quantity'] = quantity\n",
    "weekday['Quantity']=weekday['Quantity'].groupby(weekday['Weekday']).transform('sum')\n",
    "weekday['%'] = (weekday['Quantity']/len(weekday))*100\n",
    "\n",
    "weekday=weekday.drop_duplicates(['Weekday']).sort_values(by = ['Quantity'], ascending = [False])\n",
    "print (weekday.head(weekday.shape[0]))\n"
   ]
  },
  {
   "cell_type": "code",
   "execution_count": null,
   "metadata": {
    "colab": {},
    "colab_type": "code",
    "id": "xMGY0ontYSdS"
   },
   "outputs": [],
   "source": [
    "total_fine_amount=df['Fine amount'].sum()\n",
    "print('Total fine amount: $', total_fine_amount)\n",
    "runtime=time.time()-runtime\n",
    "print('Runtime:', runtime,'sec')"
   ]
  },
  {
   "cell_type": "code",
   "execution_count": null,
   "metadata": {},
   "outputs": [],
   "source": []
  }
 ],
 "metadata": {
  "colab": {
   "name": "LA Parking Citation",
   "provenance": [],
   "version": "0.3.2"
  },
  "kernelspec": {
   "display_name": "Python 3",
   "language": "python",
   "name": "python3"
  },
  "language_info": {
   "codemirror_mode": {
    "name": "ipython",
    "version": 3
   },
   "file_extension": ".py",
   "mimetype": "text/x-python",
   "name": "python",
   "nbconvert_exporter": "python",
   "pygments_lexer": "ipython3",
   "version": "3.6.5"
  }
 },
 "nbformat": 4,
 "nbformat_minor": 1
}
